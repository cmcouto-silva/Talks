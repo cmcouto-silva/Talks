{
 "cells": [
  {
   "cell_type": "markdown",
   "id": "e8a4821e-adb0-464f-b572-d8a760cbe682",
   "metadata": {},
   "source": [
    "# Setup"
   ]
  },
  {
   "cell_type": "markdown",
   "id": "fafdcf57-0461-4e1d-aaa8-2b820d6b9e41",
   "metadata": {},
   "source": [
    "## Libraries"
   ]
  },
  {
   "cell_type": "code",
   "execution_count": null,
   "id": "e9b3bf0b-1d6a-4ba4-9c46-f83c9f8900bc",
   "metadata": {},
   "outputs": [],
   "source": [
    "# Data manipulation\n",
    "import numpy as np\n",
    "import pandas as pd\n",
    "\n",
    "# Exploratory data analysis\n",
    "import sidetable\n",
    "from pandas_profiling import ProfileReport\n",
    "\n",
    "from itertools import combinations, permutations\n",
    "\n",
    "\n",
    "# Statistical packages ### & ML packages\n",
    "import phik\n",
    "import prince\n",
    "from scipy import stats\n",
    "\n",
    "# Data visualization\n",
    "import seaborn as sns\n",
    "import matplotlib.pyplot as plt\n",
    "from matplotlib import patches, colors\n",
    "from adjustText import adjust_text\n",
    "\n",
    "# Widget interaction\n",
    "from ipywidgets import interact"
   ]
  },
  {
   "cell_type": "markdown",
   "id": "858269f7-8c5c-4e48-96ee-5b52b3120001",
   "metadata": {},
   "source": [
    "## Library settings"
   ]
  },
  {
   "cell_type": "code",
   "execution_count": null,
   "id": "be078cce-76a8-4f95-a04d-19ae2e6624d7",
   "metadata": {},
   "outputs": [],
   "source": [
    "# see rc Params on https://matplotlib.org/stable/tutorials/introductory/customizing.html\n",
    "# or just take a look at plt.rcParams\n",
    "sns.set_theme(\n",
    "    context='talk',\n",
    "    style='ticks',\n",
    "    font_scale=.6,\n",
    "    rc={\n",
    "        'figure.figsize': (12,8),\n",
    "        'axes.grid': True,\n",
    "        'grid.alpha': .2,\n",
    "        'axes.labelpad': 20,\n",
    "        'axes.titlepad': 30\n",
    "    }\n",
    ")"
   ]
  },
  {
   "cell_type": "markdown",
   "id": "3027622f-71ff-4231-8648-8304387ff7f8",
   "metadata": {
    "tags": []
   },
   "source": [
    "## Custom functions"
   ]
  },
  {
   "cell_type": "code",
   "execution_count": null,
   "id": "63fd306a-cde0-43bc-84f4-ca2bf32d53f4",
   "metadata": {},
   "outputs": [],
   "source": [
    "## -- Observed-expected plots -- ##\n",
    "\n",
    "def bootstrap_chi2(df, cat_col1, cat_col2, expected=False, n_boostrap=1_000, ci=.95):\n",
    "    ci_lower = np.round((1-ci)/2, 3)\n",
    "    ci_upper = 1 - ci_lower\n",
    "    \n",
    "    bootstrap_values = []\n",
    "    for i in range(n_boostrap):\n",
    "        df_sample = df.sample(frac=1, replace=True)\n",
    "        df_sample_crosstab = pd.crosstab(df_sample[cat_col1], df_sample[cat_col2])\n",
    "        if expected:\n",
    "            bootstrap_values.append(stats.chi2_contingency(df_sample_crosstab)[-1])\n",
    "        else:\n",
    "            bootstrap_values.append(df_sample_crosstab)\n",
    "    \n",
    "    bootstrap_values_pct = [boostrap_sample / boostrap_sample.sum() for boostrap_sample in bootstrap_values]\n",
    "    \n",
    "    ci_array = np.quantile(a=np.array(bootstrap_values), q=[ci_lower,ci_upper], axis=0).round().astype(int)\n",
    "    ci_array_pct = np.quantile(a=np.array(bootstrap_values_pct), q=[ci_lower,ci_upper], axis=0).round(2)\n",
    "    \n",
    "    return ci_array, ci_array_pct\n",
    "\n",
    "\n",
    "def make_heatmap_freqlabel(df, index, columns, expected=False, bootstrap=False, **kwargs):\n",
    "    df_crosstab = pd.crosstab(df[index], df[columns])\n",
    "    \n",
    "    if expected:\n",
    "        df_crosstab = (\n",
    "            pd.DataFrame(stats.chi2_contingency(df_crosstab)[-1], index=df_crosstab.index, columns=df_crosstab.columns)\n",
    "            .round().astype(int)\n",
    "        )\n",
    "    \n",
    "    df_crosstab_str = df_crosstab.astype(str)\n",
    "    df_crosstab_str_pct = (df_crosstab / df_crosstab.sum().sum()*100).round().astype(int).astype(str)+'%'\n",
    "    \n",
    "    if bootstrap:\n",
    "        ci = bootstrap_chi2(df, index, columns, expected, **kwargs)\n",
    "        df_crosstab_str = df_crosstab_str + '\\n(' + ci[0][0].astype(str) + ' - ' + ci[0][1].astype(str) + ')'\n",
    "        \n",
    "        ci_lower_pct = (ci[1][0]*100).astype(int).astype(str)\n",
    "        ci_upper_pct = (ci[1][1]*100).astype(int).astype(str)\n",
    "        df_crosstab_str_pct = df_crosstab_str_pct + '\\n(' + ci_lower_pct + '% - ' + ci_upper_pct + '%)'\n",
    "        \n",
    "    return df_crosstab_str + '\\n\\n' + df_crosstab_str_pct\n",
    "\n",
    "\n",
    "## -- Cramer's V -- ##\n",
    "\n",
    "def calculate_cramerV(df, index, columns):\n",
    "    df_crosstab = pd.crosstab(df[index], df[columns]).values\n",
    "    X2 = stats.chi2_contingency(df_crosstab, correction=False)[0]\n",
    "    minimum_dimension = min(df_crosstab.shape)-1\n",
    "    N = np.sum(df_crosstab)\n",
    "    result = np.sqrt(X2 / (N*minimum_dimension))\n",
    "    return result\n",
    "\n",
    "\n",
    "## -- Entropy Functions-- ##\n",
    "\n",
    "def calculate_entropy(array):\n",
    "    norm_counts = pd.Series(array).value_counts(normalize=True)\n",
    "    norm_counts *= np.log2(norm_counts)\n",
    "    return -np.sum(norm_counts)\n",
    "\n",
    "\n",
    "def information_gain(df, target_col, split_col):\n",
    "    parent_entropy = calculate_entropy(df[target_col])\n",
    "    child_proportions = df[split_col].value_counts(normalize=True)\n",
    "    child_weighted_entropies = np.sum([pct*df.query(f\"{split_col}==@category\")[target_col].pipe(calculate_entropy) for category,pct in child_proportions.iteritems()])\n",
    "    information_gain = parent_entropy - child_weighted_entropies\n",
    "    return parent_entropy, child_weighted_entropies, information_gain\n",
    "\n",
    "\n",
    "def calculate_child_entropies(df, target_col, split_col):\n",
    "    child_proportions = df[split_col].value_counts(normalize=True)\n",
    "    child_entropies = {\n",
    "        category: (\n",
    "            proportion,\n",
    "            df.query(f\"{split_col}==@category\")[target_col].pipe(calculate_entropy)\n",
    "        )\n",
    "        for category,proportion in child_proportions.iteritems()\n",
    "    }\n",
    "    \n",
    "    df_child_entropies = (\n",
    "        pd.DataFrame(child_entropies, index=['proportion','entropy'])\n",
    "        .transpose()\n",
    "        .sort_values('proportion')\n",
    "        .assign(cumulative_proportion = lambda x: x.proportion.cumsum())\n",
    "    )\n",
    "\n",
    "    return df_child_entropies\n",
    "\n",
    "\n",
    "def plot_child_entropy(e, ax=None):\n",
    "    if ax is None:\n",
    "        fig,ax = plt.subplots(figsize=(11,8))\n",
    "\n",
    "    for i in range(e.shape[0]):\n",
    "        x0 = 0 if i==0 else e.iloc[i-1, e.columns.get_loc('cumulative_proportion')]\n",
    "        x1 = e.iloc[i, e.columns.get_loc('cumulative_proportion')]\n",
    "        y0 = 0\n",
    "        y1 = e.iloc[i, e.columns.get_loc('entropy')]\n",
    "        center_x = (x0+x1) / 2\n",
    "        center_y = (y0+y1) / 2\n",
    "        first_letter_annotation = str(e.index[i])[0]\n",
    "\n",
    "        rect = patches.Rectangle(xy=(x0,y0), width=x1-x0, height=y1, hatch='/', edgecolor='gray', facecolor=colors.to_rgba('gray', 0.1), lw=2)\n",
    "        ax.add_patch(rect)\n",
    "\n",
    "        ax.annotate(first_letter_annotation, (center_x, center_y), weight='bold', ha='center', va='center')\n",
    "        ax.plot(center_x, center_y, 'o', ms=30, mfc='white', color='black', linewidth=4)\n",
    "        ax.set(xlim=(0,1),ylim=(0,1), xlabel='Proporção', ylabel='Entropia')\n",
    "        ax.set_yticks(np.arange(2,12, 2)/10)\n",
    "        ax.tick_params(left=False, bottom=False)\n",
    "        ax.grid(True, ls='--', alpha=.3, color='black')\n",
    "        \n",
    "    return ax\n",
    "\n",
    "\n",
    "def plot_parent_entropy(e, ax=None):\n",
    "    if ax is None:\n",
    "        fig,ax = plt.subplots(figsize=(11,8))\n",
    "\n",
    "    rect = patches.Rectangle(xy=(0,0), width=1, height=e, hatch='/', edgecolor='gray', facecolor=colors.to_rgba('gray', 0.1), lw=2)\n",
    "    ax.add_patch(rect)\n",
    "\n",
    "    ax.set(xlim=(0,1),ylim=(0,1), xlabel='Proporção', ylabel='Entropia')\n",
    "    ax.set_yticks(np.arange(2,12, 2)/10)\n",
    "    ax.tick_params(left=False, bottom=False)\n",
    "    ax.grid(True, ls='--', alpha=.3, color='black')\n",
    "\n",
    "    return ax"
   ]
  },
  {
   "cell_type": "markdown",
   "id": "3c067d12-171e-4638-a2e5-2c4d6d05627f",
   "metadata": {},
   "source": [
    "## Load dataset"
   ]
  },
  {
   "cell_type": "markdown",
   "id": "e08376c6-9355-415e-969e-88ba96ec5427",
   "metadata": {},
   "source": [
    "The Telco customer churn data contains information about a fictional telco company that provided home phone and Internet services to 7043 customers in California in Q3.  \n",
    "It indicates which customers have left, stayed, or signed up for their service.\n",
    "\n",
    "Downladed from: https://www.kaggle.com/datasets/blastchar/telco-customer-churn"
   ]
  },
  {
   "cell_type": "code",
   "execution_count": null,
   "id": "1f172fdd-4402-4784-be9f-c458894dc9c4",
   "metadata": {},
   "outputs": [],
   "source": [
    "df = pd.read_csv('WA_Fn-UseC_-Telco-Customer-Churn.csv', index_col='customerID')"
   ]
  },
  {
   "cell_type": "code",
   "execution_count": null,
   "id": "d3ba7f05-9454-4650-a937-0efe5bb33cd5",
   "metadata": {},
   "outputs": [],
   "source": [
    "print('Dataframe has {} rows and {} columns.\\n'.format(*df.shape))\n",
    "display(df.head())"
   ]
  },
  {
   "cell_type": "code",
   "execution_count": null,
   "id": "caee16a6-c2c9-401c-917c-1c9b8d91a6fe",
   "metadata": {},
   "outputs": [],
   "source": [
    "df.info()"
   ]
  },
  {
   "cell_type": "code",
   "execution_count": null,
   "id": "b6086809-4416-4e64-abd7-947b07a14cde",
   "metadata": {},
   "outputs": [],
   "source": [
    "numerical_columns = ['tenure','MonthlyCharges','TotalCharges']\n",
    "categorical_columns = df.columns[~df.columns.isin(numerical_columns)].tolist()\n",
    "\n",
    "df[categorical_columns] = df[categorical_columns].astype('category')"
   ]
  },
  {
   "cell_type": "code",
   "execution_count": null,
   "id": "90ccb207-ffa2-4165-91b9-37cd48c925a4",
   "metadata": {},
   "outputs": [],
   "source": [
    "df.info()"
   ]
  },
  {
   "cell_type": "markdown",
   "id": "f43b1911-1e1c-4862-b2f6-95459ec8f2f7",
   "metadata": {},
   "source": [
    "# MAIN"
   ]
  },
  {
   "cell_type": "markdown",
   "id": "2d107832-6ae0-48fd-a724-89fd3a40ff19",
   "metadata": {},
   "source": [
    "## EDA"
   ]
  },
  {
   "cell_type": "code",
   "execution_count": null,
   "id": "fb1b10d0-d46d-4d23-af3c-02e0c600935e",
   "metadata": {},
   "outputs": [],
   "source": [
    "df.stb.freq(['Churn'])"
   ]
  },
  {
   "cell_type": "code",
   "execution_count": null,
   "id": "f2bd4266-d9bf-4b3a-b8f7-b4661a0a9a17",
   "metadata": {
    "tags": []
   },
   "outputs": [],
   "source": [
    "df.profile_report(interactions=None)"
   ]
  },
  {
   "cell_type": "code",
   "execution_count": null,
   "id": "c3056941-954f-416d-a5fb-5c692e6c19a2",
   "metadata": {},
   "outputs": [],
   "source": [
    "target_col = categorical_columns.pop(categorical_columns.index('Churn'))"
   ]
  },
  {
   "cell_type": "markdown",
   "id": "c03848da-1cbe-443c-9740-8745c36e1cc5",
   "metadata": {
    "tags": []
   },
   "source": [
    "## Chi2"
   ]
  },
  {
   "cell_type": "markdown",
   "id": "1dbb90ba-65ef-4814-8889-7408aaec8f81",
   "metadata": {},
   "source": [
    "### Chi-squared test"
   ]
  },
  {
   "cell_type": "markdown",
   "id": "15c6dd6e-eb50-44ad-b937-eb038944db4e",
   "metadata": {},
   "source": [
    "$$\\chi^2 = \\sum_i{\\frac{(O_i-E_i)^2}{E_i}}$$"
   ]
  },
  {
   "cell_type": "markdown",
   "id": "8e560029-b8b4-4013-b5b1-3f56479debc2",
   "metadata": {},
   "source": [
    "#### Observed frequencies"
   ]
  },
  {
   "cell_type": "code",
   "execution_count": null,
   "id": "26e3472e-8411-4336-b298-094c28824fde",
   "metadata": {},
   "outputs": [],
   "source": [
    "index = 'PaperlessBilling'\n",
    "columns = 'Churn'\n",
    "\n",
    "df_crosstab = pd.crosstab(df[index], df[columns])\n",
    "df_crosstab"
   ]
  },
  {
   "cell_type": "markdown",
   "id": "b678606f-7882-4d6c-aa24-bc48208a9ad1",
   "metadata": {},
   "source": [
    "#### Expected frequencies"
   ]
  },
  {
   "cell_type": "code",
   "execution_count": null,
   "id": "6071c3da-9e6b-4c3b-9077-52765035dd96",
   "metadata": {},
   "outputs": [],
   "source": [
    "stats.chi2_contingency(df_crosstab)"
   ]
  },
  {
   "cell_type": "code",
   "execution_count": null,
   "id": "174e76ae-cc0e-4cca-9fd4-7d0fceafd042",
   "metadata": {},
   "outputs": [],
   "source": [
    "pd.DataFrame(\n",
    "    data=stats.chi2_contingency(df_crosstab)[-1],\n",
    "    index=df_crosstab.index,\n",
    "    columns=df_crosstab.columns\n",
    ")"
   ]
  },
  {
   "cell_type": "markdown",
   "id": "1c59be42-5030-4a6c-a879-3af8d5f1e1ae",
   "metadata": {},
   "source": [
    "Exemplo de quando os valores observados são iguais aos esperados:"
   ]
  },
  {
   "cell_type": "code",
   "execution_count": null,
   "id": "73ada733-34f3-4f6e-baa9-02b9e7443a7d",
   "metadata": {},
   "outputs": [],
   "source": [
    "df_crosstab = pd.DataFrame(\n",
    "    np.array([100]*4).reshape((2,2))\n",
    ")\n",
    "\n",
    "df_crosstab"
   ]
  },
  {
   "cell_type": "code",
   "execution_count": null,
   "id": "aefd1873-d1f3-477c-a5aa-9f73396c3faf",
   "metadata": {},
   "outputs": [],
   "source": [
    "stats.chi2_contingency(df_crosstab)"
   ]
  },
  {
   "cell_type": "markdown",
   "id": "fddf2f82-e3cd-428b-914d-7f3180c49352",
   "metadata": {},
   "source": [
    "#### Teste qui-quadrado"
   ]
  },
  {
   "cell_type": "markdown",
   "id": "1e373259-6a25-4746-bf57-3c4d1c095c3a",
   "metadata": {},
   "source": [
    "Aplicar teste para todas variáveis categóricas do dataset:"
   ]
  },
  {
   "cell_type": "code",
   "execution_count": null,
   "id": "e0b8910d-8156-414b-816c-22f7235c0bf2",
   "metadata": {},
   "outputs": [],
   "source": [
    "df_styled = (\n",
    "    pd.DataFrame(\n",
    "        {cat_col: stats.chi2_contingency(pd.crosstab(df[cat_col], df.Churn), correction=True)[:2] for cat_col in categorical_columns},\n",
    "        index=['chi2','pvalue']\n",
    "    )\n",
    "    .transpose()\n",
    "    .sort_values('chi2', ascending=False)\n",
    "    .style.background_gradient(cmap='Oranges')\n",
    "    \n",
    ")\n",
    "\n",
    "display(df_styled)"
   ]
  },
  {
   "cell_type": "markdown",
   "id": "38340bd8-3b98-4909-a247-0c8d0f4e4228",
   "metadata": {},
   "source": [
    "#### Observed vs Expected heatmap"
   ]
  },
  {
   "cell_type": "code",
   "execution_count": null,
   "id": "081e7e43-6201-47b3-9ab7-1bed620c6107",
   "metadata": {},
   "outputs": [],
   "source": [
    "@interact(index=categorical_columns, columns=['Churn'])\n",
    "def plot_heatmap(index, columns, bootstrap=False):\n",
    "    df_absfreq = pd.crosstab(df[index], df[columns])\n",
    "    df_absfreq_expected = pd.DataFrame(stats.chi2_contingency(df_absfreq)[-1], index=df_absfreq.index, columns=df_absfreq.columns).round().astype(int)\n",
    "\n",
    "    plot_title = f'{index} vs {columns}'\n",
    "    fig, ax = plt.subplots(ncols=2, figsize=(12,6))\n",
    "\n",
    "    ax1 = sns.heatmap(df_absfreq, cmap='Blues', annot=make_heatmap_freqlabel(df, index, columns), fmt='', cbar=False, ax=ax[0],linewidths=.5)\n",
    "    ax1.text(x=0.5, y=1.1, s=plot_title, fontsize='large', weight='bold', ha='center', va='bottom', transform=ax1.transAxes)\n",
    "    ax1.text(x=0.5, y=1.04, s='Observed values', fontsize='small', alpha=0.75, ha='center', va='bottom', transform=ax1.transAxes)\n",
    "    ax1.tick_params(left=False)\n",
    "\n",
    "    ax2 = sns.heatmap(df_absfreq_expected, cmap='Blues', annot=make_heatmap_freqlabel(df, index, columns, bootstrap=bootstrap, expected=True), cbar=False, fmt='', ax=ax[1], linewidths=.5)\n",
    "    ax2.text(x=0.5, y=1.1, s=plot_title, fontsize='large', weight='bold', ha='center', va='bottom', transform=ax2.transAxes)\n",
    "    ax2.text(x=0.5, y=1.04, s='Expected values under independent-association hypothesis', fontsize='small', alpha=0.75, ha='center', va='bottom', transform=ax2.transAxes)\n",
    "    ax2.tick_params(left=False)\n",
    "    ax2.set_ylabel(None)\n",
    "    ax2.set_yticks([])\n",
    "\n",
    "    plt.tight_layout(w_pad=3)\n",
    "    plt.show()"
   ]
  },
  {
   "cell_type": "markdown",
   "id": "c327cecb-87bd-4b90-ab5b-55f96ec19a6f",
   "metadata": {},
   "source": [
    "#### Chi-squared distribution"
   ]
  },
  {
   "cell_type": "code",
   "execution_count": null,
   "id": "2a44107b-22aa-47e7-9afa-3cbfefccaf8a",
   "metadata": {},
   "outputs": [],
   "source": [
    "@interact(index=categorical_columns, columns=['Churn'])\n",
    "def plot_chi2(index, columns):\n",
    "    # Get observed chi2 and dof\n",
    "    chi2, p, dof, expected = stats.chi2_contingency(pd.crosstab(df[index], df[columns]))\n",
    "    # Get theoretical chi2 distribution\n",
    "    theorical_chi2_dist = np.random.chisquare(dof, df.shape[0])\n",
    "\n",
    "    # Plot\n",
    "    plt.figure(figsize=(9,6))\n",
    "    ax = sns.histplot(theorical_chi2_dist, kde=True, color='orange', alpha=.3, stat='density')\n",
    "    ax.axvline(chi2, ls='--', color='black', ymax=.9, label=f'$\\chi^2$ = {chi2:.2f}')\n",
    "    plt.legend(loc='upper right', prop={'size':'small'}, frameon=False)\n",
    "    \n",
    "    ax.set_title(f'Theoretical $\\chi^2$ distribution for {index} vs {columns}', y=1.05, weight='bold', size=14)\n",
    "    ax.annotate(f'P(X > {chi2:.2f}) = {1-stats.chi2.cdf(chi2, dof):.4f}', xy=(.5,1.06), xycoords='axes fraction', ha='center')\n",
    "    \n",
    "    sns.despine(offset=10, trim=True, ax=ax)\n",
    "    plt.show()"
   ]
  },
  {
   "cell_type": "markdown",
   "id": "4be8c5dd-c6e9-4080-a55a-53ac72dece57",
   "metadata": {},
   "source": [
    "## Cramer's V"
   ]
  },
  {
   "cell_type": "markdown",
   "id": "ea814e2d-7838-4397-a559-cdfc0da14504",
   "metadata": {},
   "source": [
    "Fórmula:"
   ]
  },
  {
   "cell_type": "markdown",
   "id": "1073ff3c-2c3b-47ec-a4be-69ec9e26cfcb",
   "metadata": {},
   "source": [
    "$$\n",
    "\\text{Cramer's V} = \\sqrt{\\frac{\\chi^2}{N(k-1)}}\n",
    "$$\n",
    "\n",
    "onde:  \n",
    "$N$: soma dos valores da tabela de contingência  \n",
    "$k$ = valor mínimo de dimensão (quantidade de linhas vs quantidade de colunas)"
   ]
  },
  {
   "cell_type": "code",
   "execution_count": null,
   "id": "9fab97aa-7fbc-4b9b-a061-0bcd58cbdb2e",
   "metadata": {},
   "outputs": [],
   "source": [
    "df_cramer = pd.DataFrame([(var1, var2, calculate_cramerV(df, var1, var2)) for var1,var2 in permutations(categorical_columns+['Churn'], r=2)], columns=['var1','var2','cramerV'])\n",
    "df_cramer = df_cramer.pivot(index='var1', columns='var2', values='cramerV')\n",
    "df_cramer"
   ]
  },
  {
   "cell_type": "code",
   "execution_count": null,
   "id": "e0026ab7-6ccf-4f89-81fd-ead39d20e06b",
   "metadata": {},
   "outputs": [],
   "source": [
    "fig,ax = plt.subplots(figsize=(12,8))\n",
    "\n",
    "mask = np.zeros(df_cramer.shape).astype(bool)\n",
    "mask[np.triu_indices_from(mask)] = True\n",
    "\n",
    "sns.heatmap(df_cramer, cmap='Oranges', mask=mask, square=False, vmin=0, vmax=1, linewidths=1,\n",
    "            annot=True, fmt='.2f', annot_kws={'fontsize':'small'},\n",
    "            cbar=True, cbar_kws={'orientation':'vertical', 'shrink': .7}, ax=ax)\n",
    "ax.set(xlabel=None, ylabel=None)\n",
    "plt.yticks(rotation=0)\n",
    "plt.show()"
   ]
  },
  {
   "cell_type": "code",
   "execution_count": null,
   "id": "d9bf4f6c-22b9-49f0-82d2-180f2339c71c",
   "metadata": {},
   "outputs": [],
   "source": [
    "pd.crosstab(df['PhoneService'], df['MultipleLines'])"
   ]
  },
  {
   "cell_type": "markdown",
   "id": "ba2c0373-cd01-4a6d-b95a-79703febbd39",
   "metadata": {},
   "source": [
    "## ANACOR"
   ]
  },
  {
   "cell_type": "markdown",
   "id": "87ee3df9-7f19-4d00-b463-ca92e4195ec0",
   "metadata": {},
   "source": [
    "### Correspondence Analysis (CA)"
   ]
  },
  {
   "cell_type": "code",
   "execution_count": null,
   "id": "7cdbbeb7-ddbc-4633-81ac-da610caa614b",
   "metadata": {},
   "outputs": [],
   "source": [
    "@interact(cat_col1=categorical_columns+[target_col], cat_col2=categorical_columns+[target_col])\n",
    "def plot_ca(cat_col1, cat_col2, ajust_labels=False):\n",
    "    df_crosstab = pd.crosstab(df[cat_col1], df[cat_col2])\n",
    "    ca = prince.ca.CA().fit(df_crosstab)\n",
    "\n",
    "    ax = ca.plot_coordinates(df_crosstab, figsize=(10,6))\n",
    "    # sns.despine(offset=10, trim=False)\n",
    "\n",
    "    if ajust_labels:\n",
    "        adjust_text(ax.texts)\n",
    "\n",
    "    plt.show()"
   ]
  },
  {
   "cell_type": "markdown",
   "id": "416f99bb-0d1e-4ba0-b398-41ba4c9f8900",
   "metadata": {},
   "source": [
    "### Multiple Correspondence Analysis (MCA)"
   ]
  },
  {
   "cell_type": "code",
   "execution_count": null,
   "id": "cf4931a5-d0fb-468b-84dd-6b7e99acb024",
   "metadata": {},
   "outputs": [],
   "source": [
    "X = df[categorical_columns+[target_col]]"
   ]
  },
  {
   "cell_type": "code",
   "execution_count": null,
   "id": "39c6f334-12a0-45ad-8934-bb38dbb3585b",
   "metadata": {},
   "outputs": [],
   "source": [
    "mca = prince.MCA().fit(X)"
   ]
  },
  {
   "cell_type": "code",
   "execution_count": null,
   "id": "bb65d0cf-da68-4366-8581-76677a3ff0ea",
   "metadata": {},
   "outputs": [],
   "source": [
    "sns.set_palette('tab20')\n",
    "ax = mca.plot_coordinates(X, figsize=(12,8), column_points_size=50, show_column_labels=True)\n",
    "# adjust_text(ax.texts)\n",
    "plt.show()"
   ]
  },
  {
   "cell_type": "markdown",
   "id": "08711fc7-2228-4336-a6b9-cb9000205f90",
   "metadata": {},
   "source": [
    "## Entropy"
   ]
  },
  {
   "cell_type": "markdown",
   "id": "cdac6606-77ce-4feb-ba44-01e9cb137253",
   "metadata": {},
   "source": [
    "### Entropy calculation"
   ]
  },
  {
   "cell_type": "markdown",
   "id": "42958451-262c-4c9d-aa8e-2c93cdbf9b03",
   "metadata": {},
   "source": [
    "$$\n",
    "Entropy = - \\sum_{i=1}^{k}{\\ p_i\\ log_2(p_i)}\n",
    "$$\n",
    "\n",
    "onde $p$ é a proporção de observações para a categoria $i$"
   ]
  },
  {
   "cell_type": "markdown",
   "id": "780981a2-ec59-40bb-b636-d5785dded033",
   "metadata": {},
   "source": [
    "Fórmula do ganho de informação (*information gain - IG*)\n",
    "\n",
    "$$\n",
    "IG = E(P) - \\sum_{i=1}{p(C)_i E(C)_i}\n",
    "$$"
   ]
  },
  {
   "cell_type": "markdown",
   "id": "21c1bd16-e99f-4281-92ea-e7a1e619e714",
   "metadata": {},
   "source": [
    "### Entropy visualization"
   ]
  },
  {
   "cell_type": "code",
   "execution_count": null,
   "id": "2fdbd58a-183e-40a4-b4ab-4b7b918817ab",
   "metadata": {},
   "outputs": [],
   "source": [
    "@interact(target_col=['Churn'], split_col=categorical_columns)\n",
    "def plot_entropies(target_col, split_col):\n",
    "    \n",
    "    e_children = calculate_child_entropies(df, target_col, split_col)\n",
    "    e_parent, e_children_weighted, ig = information_gain(df, target_col, split_col)\n",
    "\n",
    "    fig, axes = plt.subplots(ncols=2, figsize=(14,6), gridspec_kw={'width_ratios':[.5,.6]})\n",
    "\n",
    "    plot_parent_entropy(e_parent, ax=axes[0])\n",
    "    plot_child_entropy(e_children, ax=axes[1])\n",
    "\n",
    "    axes[0].set_title(f'Entropia padrão para {target_col}', size='large', y=1.05)\n",
    "    axes[0].annotate(f'Parent entropy: {e_parent:.2f}', xy=(.5,1.06), xycoords='axes fraction', ha='center', c='gray')\n",
    "\n",
    "    axes[1].set_title(f'Entropia e prevalência de valores para {split_col}', size='large', y=1.05)\n",
    "    axes[1].annotate(f'Weighted children entropy = {e_children_weighted:.2f} | Information gain = {ig:.2f}', xy=(.5,1.06), xycoords='axes fraction', ha='center', c='gray')\n",
    "\n",
    "    plt.tight_layout(w_pad=3)\n",
    "    plt.show()"
   ]
  },
  {
   "cell_type": "markdown",
   "id": "92da407e-4e73-4914-a00e-ce18ad4c97d1",
   "metadata": {},
   "source": [
    "### Tree-based model to assess correspondence among categorical variables"
   ]
  },
  {
   "cell_type": "code",
   "execution_count": null,
   "id": "2f01b988-07d7-4087-90fc-c5761b0dab86",
   "metadata": {},
   "outputs": [],
   "source": [
    "import graphviz\n",
    "from sklearn import tree\n",
    "from sklearn.pipeline import make_pipeline\n",
    "from sklearn.preprocessing import OneHotEncoder\n",
    "from sklearn.tree import DecisionTreeClassifier, plot_tree, export_text"
   ]
  },
  {
   "cell_type": "code",
   "execution_count": null,
   "id": "7fe7adbb-cde3-414e-8ad5-7935b626a539",
   "metadata": {},
   "outputs": [],
   "source": [
    "X,y = pd.get_dummies(df[categorical_columns]), df[target_col]"
   ]
  },
  {
   "cell_type": "code",
   "execution_count": null,
   "id": "176fb598-ef1d-4c9b-b59a-8b0c5f9ff5ef",
   "metadata": {},
   "outputs": [],
   "source": [
    "dt = DecisionTreeClassifier(criterion='entropy', max_depth=3).fit(X,y)"
   ]
  },
  {
   "cell_type": "code",
   "execution_count": null,
   "id": "a5cc592e-d9c7-4fc9-80a0-6205674c6c34",
   "metadata": {},
   "outputs": [],
   "source": [
    "# Get dot data\n",
    "dot_data = tree.export_graphviz(\n",
    "    decision_tree=dt,\n",
    "    out_file=None, \n",
    "    feature_names=dt.feature_names_in_,  \n",
    "    class_names=['no','yes'],\n",
    "    filled=True\n",
    ")\n",
    "\n",
    "# Draw graph\n",
    "graph = graphviz.Source(dot_data, format=\"png\") \n",
    "graph"
   ]
  },
  {
   "cell_type": "code",
   "execution_count": null,
   "id": "aa2f2ab8-cc67-4dda-b23b-f979668d172d",
   "metadata": {},
   "outputs": [],
   "source": []
  }
 ],
 "metadata": {
  "kernelspec": {
   "display_name": "PyData",
   "language": "python",
   "name": "pydata"
  },
  "language_info": {
   "codemirror_mode": {
    "name": "ipython",
    "version": 3
   },
   "file_extension": ".py",
   "mimetype": "text/x-python",
   "name": "python",
   "nbconvert_exporter": "python",
   "pygments_lexer": "ipython3",
   "version": "3.8.13"
  }
 },
 "nbformat": 4,
 "nbformat_minor": 5
}
